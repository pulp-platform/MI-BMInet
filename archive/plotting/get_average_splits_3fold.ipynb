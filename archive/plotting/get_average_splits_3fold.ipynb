{
 "cells": [
  {
   "cell_type": "code",
   "execution_count": 1,
   "metadata": {},
   "outputs": [],
   "source": [
    "import numpy as np"
   ]
  },
  {
   "cell_type": "code",
   "execution_count": 2,
   "metadata": {},
   "outputs": [],
   "source": [
    "lr_str = f'lr_1e-4'\n",
    "dr_str = f'dr_01'"
   ]
  },
  {
   "cell_type": "code",
   "execution_count": 6,
   "metadata": {},
   "outputs": [],
   "source": [
    "train_loss = np.zeros(1000)\n",
    "train_accu = np.zeros(1000)\n",
    "test_loss = np.zeros(1000)\n",
    "test_accu = np.zeros(1000)\n",
    "\n",
    "\n",
    "for split in range(1,4):\n",
    "\n",
    "    #Names of directories to access\n",
    "    directory = f'3_fold_testing/test_fold{split}/'\n",
    "\n",
    "    step_array = np.loadtxt(f'{directory}train_loss_{lr_str}_{dr_str}_fold{split}.csv')\n",
    "    train_loss = train_loss + step_array\n",
    "    step_array = np.loadtxt(f'{directory}train_accu_{lr_str}_{dr_str}_fold{split}.csv')\n",
    "    train_accu = train_accu + step_array\n",
    "    step_array = np.loadtxt(f'{directory}test_loss_{lr_str}_{dr_str}_fold{split}.csv')\n",
    "    test_loss = test_loss + step_array\n",
    "    step_array = np.loadtxt(f'{directory}test_accu_{lr_str}_{dr_str}_fold{split}.csv')\n",
    "    test_accu = test_accu + step_array\n",
    "\n",
    "train_loss = train_loss/3\n",
    "train_accu = train_accu/3\n",
    "test_loss = test_loss/3\n",
    "test_accu = test_accu/3\n",
    "\n",
    "#Names of directories to save\n",
    "directory = f'3_fold_testing/'\n",
    "\n",
    "np.savetxt(f'{directory}train_loss_{lr_str}_{dr_str}_avg.csv',train_loss)\n",
    "np.savetxt(f'{directory}train_accu_{lr_str}_{dr_str}_avg.csv',train_accu)\n",
    "np.savetxt(f'{directory}test_loss_{lr_str}_{dr_str}_avg.csv',test_loss)\n",
    "np.savetxt(f'{directory}test_accu_{lr_str}_{dr_str}_avg.csv',test_accu)\n"
   ]
  }
 ],
 "metadata": {
  "kernelspec": {
   "display_name": "eegnet",
   "language": "python",
   "name": "eegnet"
  },
  "language_info": {
   "codemirror_mode": {
    "name": "ipython",
    "version": 3
   },
   "file_extension": ".py",
   "mimetype": "text/x-python",
   "name": "python",
   "nbconvert_exporter": "python",
   "pygments_lexer": "ipython3",
   "version": "3.6.9"
  }
 },
 "nbformat": 4,
 "nbformat_minor": 4
}
