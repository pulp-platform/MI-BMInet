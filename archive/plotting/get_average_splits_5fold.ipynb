{
 "cells": [
  {
   "cell_type": "code",
   "execution_count": 1,
   "metadata": {},
   "outputs": [],
   "source": [
    "import numpy as np"
   ]
  },
  {
   "cell_type": "code",
   "execution_count": 2,
   "metadata": {},
   "outputs": [],
   "source": [
    "lr_str = f'lr_1e-4'\n",
    "dr_str = f'dr_01'"
   ]
  },
  {
   "cell_type": "code",
   "execution_count": 4,
   "metadata": {},
   "outputs": [],
   "source": [
    "train_loss = np.zeros(800)\n",
    "train_accu = np.zeros(800)\n",
    "valid_loss = np.zeros(800)\n",
    "valid_accu = np.zeros(800)\n",
    "\n",
    "\n",
    "for split in range(0,5):\n",
    "\n",
    "    #Names of directories to access\n",
    "    directory = f'5_fold_cv_whole_dataset/'\n",
    "\n",
    "    step_array = np.loadtxt(f'{directory}train_loss_{lr_str}_{dr_str}_split_{split}.csv')\n",
    "    train_loss = train_loss + step_array\n",
    "    step_array = np.loadtxt(f'{directory}train_accu_{lr_str}_{dr_str}_split_{split}.csv')\n",
    "    train_accu = train_accu + step_array\n",
    "    step_array = np.loadtxt(f'{directory}valid_loss_{lr_str}_{dr_str}_split_{split}.csv')\n",
    "    valid_loss = valid_loss + step_array\n",
    "    step_array = np.loadtxt(f'{directory}valid_accu_{lr_str}_{dr_str}_split_{split}.csv')\n",
    "    valid_accu = valid_accu + step_array\n",
    "\n",
    "train_loss = train_loss/5\n",
    "train_accu = train_accu/5\n",
    "valid_loss = valid_loss/5\n",
    "valid_accu = valid_accu/5\n",
    "\n",
    "np.savetxt(f'{directory}train_loss_{lr_str}_{dr_str}_avg.csv',train_loss)\n",
    "np.savetxt(f'{directory}train_accu_{lr_str}_{dr_str}_avg.csv',train_accu)\n",
    "np.savetxt(f'{directory}valid_loss_{lr_str}_{dr_str}_avg.csv',valid_loss)\n",
    "np.savetxt(f'{directory}valid_accu_{lr_str}_{dr_str}_avg.csv',valid_accu)\n"
   ]
  },
  {
   "cell_type": "code",
   "execution_count": null,
   "metadata": {},
   "outputs": [],
   "source": []
  }
 ],
 "metadata": {
  "kernelspec": {
   "display_name": "eegnet",
   "language": "python",
   "name": "eegnet"
  },
  "language_info": {
   "codemirror_mode": {
    "name": "ipython",
    "version": 3
   },
   "file_extension": ".py",
   "mimetype": "text/x-python",
   "name": "python",
   "nbconvert_exporter": "python",
   "pygments_lexer": "ipython3",
   "version": "3.6.9"
  }
 },
 "nbformat": 4,
 "nbformat_minor": 4
}
