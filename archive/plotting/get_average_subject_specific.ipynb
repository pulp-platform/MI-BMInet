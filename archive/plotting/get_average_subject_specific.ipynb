{
 "cells": [
  {
   "cell_type": "code",
   "execution_count": 1,
   "metadata": {},
   "outputs": [],
   "source": [
    "import numpy as np"
   ]
  },
  {
   "cell_type": "code",
   "execution_count": 4,
   "metadata": {},
   "outputs": [
    {
     "name": "stdout",
     "output_type": "stream",
     "text": [
      "Skipping excluded subject: 88 ...\n",
      "Skipping excluded subject: 92 ...\n",
      "Skipping excluded subject: 100 ...\n",
      "Skipping excluded subject: 104 ...\n",
      "Skipping excluded subject: 106 ...\n"
     ]
    }
   ],
   "source": [
    "train_loss = np.zeros(10)\n",
    "train_accu = np.zeros(10)\n",
    "valid_loss = np.zeros(10)\n",
    "valid_accu = np.zeros(10)\n",
    "\n",
    "excluded_subjects = [88,92,100,104,106]\n",
    "\n",
    "for subject_id in range(1,110):\n",
    "    if subject_id in excluded_subjects:\n",
    "        print(f'Skipping excluded subject: {subject_id} ...')\n",
    "        continue\n",
    "    subject_str = '{0:03d}'.format(subject_id)\n",
    "    #Names of directories to access\n",
    "    directory = f'global_model_subject_specific/'\n",
    "\n",
    "    step_array = np.loadtxt(f'{directory}{subject_str}_train_loss_global.csv')\n",
    "    train_loss = train_loss + step_array\n",
    "    step_array = np.loadtxt(f'{directory}{subject_str}_train_global.csv')\n",
    "    train_accu = train_accu + step_array\n",
    "    step_array = np.loadtxt(f'{directory}{subject_str}_test_loss_lr_global.csv')\n",
    "    valid_loss = valid_loss + step_array\n",
    "    step_array = np.loadtxt(f'{directory}{subject_str}_test_global.csv')\n",
    "    valid_accu = valid_accu + step_array\n",
    "\n",
    "n_subjects = 110 - len(excluded_subjects)\n",
    "train_loss = train_loss/n_subjects\n",
    "train_accu = train_accu/n_subjects\n",
    "valid_loss = valid_loss/n_subjects\n",
    "valid_accu = valid_accu/n_subjects\n",
    "\n",
    "np.savetxt(f'{directory}train_loss_all_subjects_avg.csv',train_loss)\n",
    "np.savetxt(f'{directory}train_accu_all_subjects_avg.csv',train_accu)\n",
    "np.savetxt(f'{directory}test_loss_all_subjects_avg.csv',valid_loss)\n",
    "np.savetxt(f'{directory}test_accu_all_subjects_avg.csv',valid_accu)"
   ]
  },
  {
   "cell_type": "code",
   "execution_count": null,
   "metadata": {},
   "outputs": [],
   "source": []
  }
 ],
 "metadata": {
  "kernelspec": {
   "display_name": "eegnet",
   "language": "python",
   "name": "eegnet"
  },
  "language_info": {
   "codemirror_mode": {
    "name": "ipython",
    "version": 3
   },
   "file_extension": ".py",
   "mimetype": "text/x-python",
   "name": "python",
   "nbconvert_exporter": "python",
   "pygments_lexer": "ipython3",
   "version": "3.6.9"
  }
 },
 "nbformat": 4,
 "nbformat_minor": 4
}
