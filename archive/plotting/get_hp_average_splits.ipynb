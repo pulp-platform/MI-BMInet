{
 "cells": [
  {
   "cell_type": "code",
   "execution_count": 6,
   "metadata": {},
   "outputs": [],
   "source": [
    "import numpy as np"
   ]
  },
  {
   "cell_type": "code",
   "execution_count": 7,
   "metadata": {},
   "outputs": [],
   "source": [
    "lr_str = f'lr_1e-4'\n",
    "dr_str = f'dr_02'"
   ]
  },
  {
   "cell_type": "code",
   "execution_count": 9,
   "metadata": {},
   "outputs": [],
   "source": [
    "for alpha in range(3,6):\n",
    "    train_loss = np.zeros(500)\n",
    "    train_accu = np.zeros(500)\n",
    "    valid_loss = np.zeros(500)\n",
    "    valid_accu = np.zeros(500)\n",
    "\n",
    "\n",
    "    for split in range(0,5):\n",
    "        \n",
    "        # comment depending on which one you use\n",
    "        \n",
    "        # lr_str = f'lr_1e-{alpha}'\n",
    "        dr_str = f'dr_0{alpha}'\n",
    "        \n",
    "        #Names of directories to access\n",
    "        directory = f'hyperParameterSearch/{lr_str}_{dr_str}/'\n",
    "        \n",
    "        step_array = np.loadtxt(f'{directory}train_loss_{lr_str}_{dr_str}_split_{split}.csv')\n",
    "        train_loss = train_loss + step_array\n",
    "        step_array = np.loadtxt(f'{directory}train_accu_{lr_str}_{dr_str}_split_{split}.csv')\n",
    "        train_accu = train_accu + step_array\n",
    "        step_array = np.loadtxt(f'{directory}valid_loss_{lr_str}_{dr_str}_split_{split}.csv')\n",
    "        valid_loss = valid_loss + step_array\n",
    "        step_array = np.loadtxt(f'{directory}valid_accu_{lr_str}_{dr_str}_split_{split}.csv')\n",
    "        valid_accu = valid_accu + step_array\n",
    "    \n",
    "    train_loss = train_loss/5\n",
    "    train_accu = train_accu/5\n",
    "    valid_loss = valid_loss/5\n",
    "    valid_accu = valid_accu/5\n",
    "\n",
    "    np.savetxt(f'{directory}train_loss_{lr_str}_{dr_str}_avg.csv',train_loss)\n",
    "    np.savetxt(f'{directory}train_accu_{lr_str}_{dr_str}_avg.csv',train_accu)\n",
    "    np.savetxt(f'{directory}valid_loss_{lr_str}_{dr_str}_avg.csv',valid_loss)\n",
    "    np.savetxt(f'{directory}valid_accu_{lr_str}_{dr_str}_avg.csv',valid_accu)\n",
    "    "
   ]
  }
 ],
 "metadata": {
  "kernelspec": {
   "display_name": "eegnet",
   "language": "python",
   "name": "eegnet"
  },
  "language_info": {
   "codemirror_mode": {
    "name": "ipython",
    "version": 3
   },
   "file_extension": ".py",
   "mimetype": "text/x-python",
   "name": "python",
   "nbconvert_exporter": "python",
   "pygments_lexer": "ipython3",
   "version": "3.6.9"
  }
 },
 "nbformat": 4,
 "nbformat_minor": 4
}
