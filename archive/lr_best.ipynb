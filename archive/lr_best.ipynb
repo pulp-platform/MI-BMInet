{
 "cells": [
  {
   "cell_type": "code",
   "execution_count": null,
   "metadata": {},
   "outputs": [],
   "source": []
  },
  {
   "cell_type": "code",
   "execution_count": 7,
   "metadata": {},
   "outputs": [
    {
     "name": "stdout",
     "output_type": "stream",
     "text": [
      "LR= 10^-1\n",
      "Max Train Accu: 0.4794973544917229\n",
      "Max Valid Accu: 0.4882369614512472\n",
      "Best Train Avg: 0.4737859032453175\n",
      "Best Valid Avg: 0.46069019274376344\n",
      "LR= 10^-2\n",
      "Max Train Accu: 0.6192838246634937\n",
      "Max Valid Accu: 0.6051587301587302\n",
      "Best Train Avg: 0.6128510015105333\n",
      "Best Valid Avg: 0.5829010770975052\n",
      "LR= 10^-3\n",
      "Max Train Accu: 0.7559996221048402\n",
      "Max Valid Accu: 0.6442743764172336\n",
      "Best Train Avg: 0.7494354686280112\n",
      "Best Valid Avg: 0.6375496031746022\n",
      "LR= 10^-4\n",
      "Max Train Accu: 0.7482520786204846\n",
      "Max Valid Accu: 0.6336451247165533\n",
      "Best Train Avg: 0.7410662320493322\n",
      "Best Valid Avg: 0.6296400226757364\n",
      "LR= 10^-5\n",
      "Max Train Accu: 0.658068783068783\n",
      "Max Valid Accu: 0.6143707482993197\n",
      "Best Train Avg: 0.6494047619043113\n",
      "Best Valid Avg: 0.6105541383219948\n"
     ]
    }
   ],
   "source": [
    "import matplotlib.pyplot as plt\n",
    "import numpy as np\n",
    "import heapq\n",
    "\n",
    "results_dir=f'global_trainer_hp_lr'\n",
    "lr_exps = [(-x) for x in range(1,6)]\n",
    "\n",
    "for lr_exp in lr_exps:\n",
    "    train_accu_avg = np.loadtxt(f'{results_dir}/stats/train_accu_lr_1e-{lr_exp}_avg.csv')\n",
    "    valid_accu_avg = np.loadtxt(f'{results_dir}/stats/valid_accu_lr_1e-{lr_exp}_avg.csv')\n",
    "    #train_loss_avg = np.loadtxt(f'{results_dir}/stats/train_loss_lr_1e-{lr_exp}_avg.csv')\n",
    "    #valid_loss_avg = np.loadtxt(f'{results_dir}/stats/valid_loss_lr_1e-{lr_exp}_avg.csv')\n",
    "    \n",
    "    train_accu_opt = max(train_accu_avg)\n",
    "    valid_accu_opt = max(valid_accu_avg)\n",
    "    #train_loss_opt = min(train_loss_avg)\n",
    "    #valid_loss_opt = min(valid_loss_avg)\n",
    "    \n",
    "    train_accu_top = heapq.nlargest(100, train_accu_avg)\n",
    "    valid_accu_top = heapq.nlargest(100, valid_accu_avg)\n",
    "    \n",
    "    train_accu_bet = sum(train_accu_top)/len(train_accu_top)\n",
    "    valid_accu_bet = sum(valid_accu_top)/len(valid_accu_top)\n",
    "    \n",
    "    print(f'LR= 10^{lr_exp}')\n",
    "    print(f'Max Train Accu: {train_accu_opt}')\n",
    "    print(f'Max Valid Accu: {valid_accu_opt}')\n",
    "    #print(f'Min Train Loss: {train_loss_opt}')\n",
    "    #print(f'Min Valid Loss: {valid_loss_opt}')\n",
    "    \n",
    "    print(f'Best Train Avg: {train_accu_bet}')\n",
    "    print(f'Best Valid Avg: {valid_accu_bet}')\n",
    "    \n"
   ]
  }
 ],
 "metadata": {
  "kernelspec": {
   "display_name": "Python 3",
   "language": "python",
   "name": "python3"
  },
  "language_info": {
   "codemirror_mode": {
    "name": "ipython",
    "version": 3
   },
   "file_extension": ".py",
   "mimetype": "text/x-python",
   "name": "python",
   "nbconvert_exporter": "python",
   "pygments_lexer": "ipython3",
   "version": "3.6.9"
  }
 },
 "nbformat": 4,
 "nbformat_minor": 4
}
