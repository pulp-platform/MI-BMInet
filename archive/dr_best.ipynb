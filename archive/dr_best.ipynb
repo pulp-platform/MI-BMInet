{
 "cells": [
  {
   "cell_type": "code",
   "execution_count": null,
   "metadata": {},
   "outputs": [],
   "source": []
  },
  {
   "cell_type": "code",
   "execution_count": 7,
   "metadata": {},
   "outputs": [
    {
     "name": "stdout",
     "output_type": "stream",
     "text": [
      "DR= 0.1\n",
      "Max Train Accu: 0.7482520786204846\n",
      "Max Valid Accu: 0.6336451247165533\n",
      "Best Train Avg: 0.7455026454981402\n",
      "Best Valid Avg: 0.6327522675736962\n",
      "DR= 0.2\n",
      "Max Train Accu: 0.7282690854119426\n",
      "Max Valid Accu: 0.6415816326530612\n",
      "Best Train Avg: 0.7245464852528868\n",
      "Best Valid Avg: 0.6403628117913833\n",
      "DR= 0.3\n",
      "Max Train Accu: 0.7030423280198017\n",
      "Max Valid Accu: 0.6342120181405896\n",
      "Best Train Avg: 0.7021967120080037\n",
      "Best Valid Avg: 0.632482993197279\n",
      "DR= 0.4\n",
      "Max Train Accu: 0.6898148148148149\n",
      "Max Valid Accu: 0.627125850340136\n",
      "Best Train Avg: 0.6874102418824117\n",
      "Best Valid Avg: 0.6255527210884353\n"
     ]
    }
   ],
   "source": [
    "import matplotlib.pyplot as plt\n",
    "import numpy as np\n",
    "import heapq\n",
    "\n",
    "results_dir=f'global_trainer_hp_dr'\n",
    "dr_list = [x for x in range(1,5)]\n",
    "\n",
    "for dr in dr_list:\n",
    "    \n",
    "    train_accu_avg = np.loadtxt(f'{results_dir}/stats/train_accu_dr_0{dr}_avg.csv')\n",
    "    valid_accu_avg = np.loadtxt(f'{results_dir}/stats/valid_accu_dr_0{dr}_avg.csv')\n",
    "    #train_loss_avg = np.loadtxt(f'{results_dir}/stats/train_loss_lr_1e-{lr_exp}_avg.csv')\n",
    "    #valid_loss_avg = np.loadtxt(f'{results_dir}/stats/valid_loss_lr_1e-{lr_exp}_avg.csv')\n",
    "    \n",
    "    train_accu_opt = max(train_accu_avg)\n",
    "    valid_accu_opt = max(valid_accu_avg)\n",
    "    #train_loss_opt = min(train_loss_avg)\n",
    "    #valid_loss_opt = min(valid_loss_avg)\n",
    "    \n",
    "    train_accu_top = heapq.nlargest(10, train_accu_avg)\n",
    "    valid_accu_top = heapq.nlargest(10, valid_accu_avg)\n",
    "    \n",
    "    train_accu_bet = sum(train_accu_top)/len(train_accu_top)\n",
    "    valid_accu_bet = sum(valid_accu_top)/len(valid_accu_top)\n",
    "    \n",
    "    print(f'DR= 0.{dr}')\n",
    "    print(f'Max Train Accu: {train_accu_opt}')\n",
    "    print(f'Max Valid Accu: {valid_accu_opt}')\n",
    "    #print(f'Min Train Loss: {train_loss_opt}')\n",
    "    #print(f'Min Valid Loss: {valid_loss_opt}')\n",
    "    \n",
    "    print(f'Best Train Avg: {train_accu_bet}')\n",
    "    print(f'Best Valid Avg: {valid_accu_bet}')\n",
    "    \n"
   ]
  }
 ],
 "metadata": {
  "kernelspec": {
   "display_name": "Python 3",
   "language": "python",
   "name": "python3"
  },
  "language_info": {
   "codemirror_mode": {
    "name": "ipython",
    "version": 3
   },
   "file_extension": ".py",
   "mimetype": "text/x-python",
   "name": "python",
   "nbconvert_exporter": "python",
   "pygments_lexer": "ipython3",
   "version": "3.6.9"
  }
 },
 "nbformat": 4,
 "nbformat_minor": 4
}
