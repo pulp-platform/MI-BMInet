{
 "cells": [
  {
   "cell_type": "code",
   "execution_count": 1,
   "metadata": {
    "collapsed": true
   },
   "outputs": [],
   "source": [
    "# Copyright (c) 2020 ETH Zurich, Xiaying Wang, Michael Hersche, Batuhan Toemekce, \n",
    "# Burak Kaya, Michele Magno, and Luca Benini"
   ]
  },
  {
   "cell_type": "code",
   "execution_count": 3,
   "metadata": {
    "collapsed": true
   },
   "outputs": [],
   "source": [
    "%matplotlib inline\n",
    "import matplotlib as plt\n",
    "import matplotlib.pyplot as plt\n",
    "plt.rc('axes', axisbelow=True)\n",
    "import numpy as np\n",
    "import os\n"
   ]
  },
  {
   "cell_type": "markdown",
   "metadata": {},
   "source": [
    "## Plot Training and Validation Accuracy for Global Model"
   ]
  },
  {
   "cell_type": "code",
   "execution_count": 4,
   "metadata": {
    "collapsed": false
   },
   "outputs": [],
   "source": [
    "# plot global model results \n",
    "def plot_global(path,num_classes,n_ds,n_ch,T,plot_avg=True,plot_folds=True,color='black'):\n",
    "    \n",
    "    \n",
    "    all_acc = np.zeros((5,4,100))\n",
    "    for split_ctr in range(5):\n",
    "        file = '{:}/stats/global_class_{:}_ds{:}_nch{:}_T{}_split_{:}.csv'.format(path,num_classes,n_ds,n_ch,T,split_ctr)\n",
    "        all_acc[split_ctr] = np.genfromtxt(file, delimiter=' ').transpose()\n",
    "    \n",
    "    epochs = np.arange(100)\n",
    "    if plot_folds: \n",
    "        handles = plt.plot(epochs, [[a*100 for a in b] for b in all_acc[:,0].transpose()], ':')\n",
    "        plt.gca().set_prop_cycle(None)\n",
    "        handles = plt.plot(epochs, [[a*100 for a in b] for b in all_acc[:,1].transpose()], '-')\n",
    "    \n",
    "    if plot_avg:\n",
    "        plt.plot(epochs,100*all_acc[:,0].mean(axis=0),linestyle = ':',linewidth=3,color=color,label = 'Train {:}'.format(n_ch))\n",
    "        plt.plot(epochs,100*all_acc[:,1].mean(axis=0),linestyle = '-',linewidth=3,color=color, label = 'Val {:}'.format(n_ch))\n",
    "    \n",
    "    plt.legend()\n",
    "    plt.xlabel(\"Epochs\")\n",
    "    plt.ylabel(\"Accuracy [%]\")\n",
    "    \n",
    "    # print avg accuracy\n",
    "    print(\"Global Model {:}-class MI, {:} channels: Train:\\t{:.2f}% Val:\\t{:.2f}%\".format(\n",
    "        num_classes,n_ch,100*all_acc[:,0,-1].mean(),100*all_acc[:,1,-1].mean()))\n",
    "    \n",
    "    return 100*all_acc[:,1,-1].mean()\n",
    "        "
   ]
  },
  {
   "cell_type": "markdown",
   "metadata": {},
   "source": [
    "## Compute Accuracy for Subject-specific Transfer Learning"
   ]
  },
  {
   "cell_type": "code",
   "execution_count": 17,
   "metadata": {
    "collapsed": false
   },
   "outputs": [],
   "source": [
    "# plot global model results \n",
    "def plot_ss(path,num_classes,n_ds,n_ch,T,fl,color='black'):\n",
    "    \n",
    "    all_subjects = range(1,110)\n",
    "    excluded_subjects=[88,92,100,104]\n",
    "    subjects = [x for x in all_subjects if (x not in excluded_subjects)]\n",
    "    n_sub = len(subjects)\n",
    "    n_epoch = 10\n",
    "    n_fold = 4\n",
    "    n_res = 4 # both validation and training accuracy and loss\n",
    "    all_acc = np.zeros((n_sub,n_fold,n_res,n_epoch+1)) \n",
    "    all_acc[:]= np.nan\n",
    "    \n",
    "    for sub_idx in range(n_sub):\n",
    "        sub_number = subjects[sub_idx]\n",
    "        for split_ctr in range(4): \n",
    "            file = '{:}/stats/ss_class_{:}_ds{:}_nch{:}_T{:}_fl{:}_sub{:03d}_split_{:}.csv'.format(\n",
    "                path,num_classes,n_ds,n_ch,T,fl,sub_number,split_ctr)\n",
    "            \n",
    "            if os.path.isfile(file):\n",
    "                all_acc[sub_idx,split_ctr] = np.genfromtxt(file, delimiter=' ').transpose()\n",
    "            #np.savetxt(file, all_acc[sub_idx,split_ctr])\n",
    "    \n",
    "    global_acc = 100*np.nanmean(all_acc[:,1,1,0])\n",
    "    ss_acc = 100*np.nanmean(all_acc[:,1,1,-1])\n",
    "\n",
    "    print(\"Global Model {:}-class MI, {:} channels: Global:\\t{:.2f} SS:\\t{:.2f}% Increase:\\t{:.2f}%\".format(\n",
    "        num_classes,n_ch,global_acc,ss_acc,ss_acc-global_acc))\n",
    "    # plot training curve \n",
    "    epochs = np.arange(n_epoch+1)\n",
    "    \n",
    "    plt.plot(epochs,100*np.nanmean(all_acc[:,:,0],axis=(0,1)),linestyle = ':',linewidth=3,color=color,label = 'Train {:}'.format(fl))\n",
    "    plt.plot(epochs,100*np.nanmean(all_acc[:,:,1],axis=(0,1)),linestyle = '-',linewidth=3,color =color,label = 'Val {:}'.format(fl))\n",
    "    plt.legend()\n",
    "    plt.xlabel(\"Epochs\")\n",
    "    plt.ylabel(\"Accuracy [%]\")\n",
    "    \n",
    "    return ss_acc\n",
    "    \n",
    "    "
   ]
  },
  {
   "cell_type": "code",
   "execution_count": 23,
   "metadata": {
    "collapsed": false
   },
   "outputs": [
    {
     "name": "stdout",
     "output_type": "stream",
     "text": [
      "Global Model 3-class MI, 64 channels: Global:\t76.61 SS:\t80.77% Increase:\t4.17%\n"
     ]
    },
    {
     "name": "stderr",
     "output_type": "stream",
     "text": [
      "/usr/pack/python-3.4.4-kgf/lib/python3.4/site-packages/numpy/lib/nanfunctions.py:675: RuntimeWarning: Mean of empty slice\n",
      "  warnings.warn(\"Mean of empty slice\", RuntimeWarning)\n"
     ]
    },
    {
     "name": "stdout",
     "output_type": "stream",
     "text": [
      "Global Model 3-class MI, 64 channels: Global:\t76.55 SS:\t78.57% Increase:\t2.02%\n"
     ]
    },
    {
     "name": "stderr",
     "output_type": "stream",
     "text": [
      "/usr/pack/python-3.4.4-kgf/lib/python3.4/site-packages/numpy/lib/nanfunctions.py:675: RuntimeWarning: Mean of empty slice\n",
      "  warnings.warn(\"Mean of empty slice\", RuntimeWarning)\n"
     ]
    },
    {
     "name": "stdout",
     "output_type": "stream",
     "text": [
      "Global Model 3-class MI, 64 channels: Global:\t76.67 SS:\t77.68% Increase:\t1.01%\n"
     ]
    },
    {
     "name": "stderr",
     "output_type": "stream",
     "text": [
      "/usr/pack/python-3.4.4-kgf/lib/python3.4/site-packages/numpy/lib/nanfunctions.py:675: RuntimeWarning: Mean of empty slice\n",
      "  warnings.warn(\"Mean of empty slice\", RuntimeWarning)\n"
     ]
    },
    {
     "name": "stdout",
     "output_type": "stream",
     "text": [
      "Global Model 3-class MI, 64 channels: Global:\t76.49 SS:\t77.86% Increase:\t1.37%\n"
     ]
    },
    {
     "name": "stderr",
     "output_type": "stream",
     "text": [
      "/usr/pack/python-3.4.4-kgf/lib/python3.4/site-packages/numpy/lib/nanfunctions.py:675: RuntimeWarning: Mean of empty slice\n",
      "  warnings.warn(\"Mean of empty slice\", RuntimeWarning)\n"
     ]
    },
    {
     "data": {
      "image/png": "[encoded data removed]",
      "text/plain": [
       "<matplotlib.figure.Figure at 0x7fabe4026128>"
      ]
     },
     "metadata": {},
     "output_type": "display_data"
    }
   ],
   "source": [
    "# just center (C)\n",
    "experiment_name = 'ss_freezlayer'\n",
    "result_path = '../results/'+experiment_name\n",
    "n_ds = 1\n",
    "T = 3\n",
    "num_classes = 3\n",
    "num_level_list=[0,1,2,3]\n",
    "nch = 64\n",
    "\n",
    "for fl in num_level_list: \n",
    "    _= plot_ss(result_path,num_classes,n_ds,nch,T,fl,\n",
    "                                       color='C'+str(fl))\n",
    "    \n",
    "plt.grid()"
   ]
  }
 ],
 "metadata": {
  "kernelspec": {
   "display_name": "Python 3",
   "language": "python",
   "name": "python3"
  },
  "language_info": {
   "codemirror_mode": {
    "name": "ipython",
    "version": 3
   },
   "file_extension": ".py",
   "mimetype": "text/x-python",
   "name": "python",
   "nbconvert_exporter": "python",
   "pygments_lexer": "ipython3",
   "version": "3.4.4"
  }
 },
 "nbformat": 4,
 "nbformat_minor": 0
}
