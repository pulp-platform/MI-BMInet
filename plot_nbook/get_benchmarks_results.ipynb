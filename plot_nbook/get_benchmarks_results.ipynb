{
 "cells": [
  {
   "cell_type": "code",
   "execution_count": 142,
   "id": "fluid-thousand",
   "metadata": {},
   "outputs": [],
   "source": [
    "%matplotlib inline\n",
    "import matplotlib as plt\n",
    "import matplotlib.pyplot as plt\n",
    "from matplotlib import ticker\n",
    "plt.rc('axes', axisbelow=True)\n",
    "import os\n",
    "\n",
    "plt.rcParams.update({'font.size': 22})\n",
    "\n",
    "import matplotlib2tikz"
   ]
  },
  {
   "cell_type": "code",
   "execution_count": 208,
   "id": "fewer-weapon",
   "metadata": {},
   "outputs": [],
   "source": [
    "DATASET = 'physionet'\n",
    "TOPOLOGY = \"edgeEEGNet\"\n",
    "EXP_ID = '7'\n",
    "LOG_NOTE = 'cs with net weights from same folds'\n",
    "\n",
    "BENCHMARK = True\n",
    "N_ITER = 25\n",
    "\n",
    "LOG_FOLDER = f'../logs/{DATASET}'\n",
    "EXP_FOLDER = os.path.join(LOG_FOLDER, TOPOLOGY, f'exp{EXP_ID}')\n",
    "\n",
    "STATS_FNAME = '{}_class{}_nch{}_split{}'\n",
    "DATAFILE = os.path.join(EXP_FOLDER, '{}', STATS_FNAME+'{}')\n",
    "\n",
    "REDUCE_NETW = True\n",
    "REDUCE_MANUAL = False\n",
    "RMODE = 'auto' # {'auto', 'dist', 'crow', 'ccprows', 'ccfrows'}\n",
    "statsfile = os.path.join(EXP_FOLDER, f'stats/{RMODE}_bench.npz')\n",
    "\n",
    "if DATASET == 'bci':\n",
    "    num_classes_list = [2,3,4]\n",
    "    KAPPASCORE = True\n",
    "else:\n",
    "    num_classes_list = [2,3,4]\n",
    "    KAPPASCORE = False\n",
    "    \n",
    "n_ch_list = [2, 3, 5, 7, 8, 9, 11, 4, 6, 10, 14, 18, 19, 20, 16, 24, 32, 38, 64]\n",
    "\n",
    "if DATASET == 'bci':\n",
    "    ch_dict = {#'auto': [2, 3, 5, 7, 8, 9, 11, 4, 6, 10, 14, 18, 19, 20, 16, 22], \n",
    "        #'auto': [2, 3, 5, 7, 8, 9, 11, 4, 22],#, 6, 10, 14, 18, 19, 20, 16, 22], \n",
    "        #'auto': [6, 10, 14, 18, 19, 20, 16, 22], \n",
    "        'auto': [10,22],\n",
    "        #'auto': [2, 3, 4, 5, 6, 7, 8, 9, 22],\n",
    "        #'auto': [10, 11, 14, 16, 18, 19, 20, 22],\n",
    "               'dist': [], 'crow': [2, 3, 5, 7], 'ccprows': [4, 6], 'ccfrows': [4, 6]}\n",
    "    TOT_CH = 22\n",
    "    N_FOLDS = 9\n",
    "else:\n",
    "    ch_dict = {\n",
    "        #'auto': [2, 3, 5, 7, 8, 9, 11, 4, 6, 10, 14, 18, 19, 20, 16, 24, 32, 38, 64],\n",
    "        #'auto': [2, 3, 4, 5, 6, 7, 8, 9, 10, 11, 14, 16, 18, 19, 20, 24, 32, 38, 64],\n",
    "        'auto': [10, 64],\n",
    "               'dist': [8, 19, 38], 'crow': [2, 3, 5, 7, 9, 11], \n",
    "               'ccprows': [4, 6, 10, 14, 18, 20], 'ccfrows': [4, 6, 10, 14, 18, 20]}\n",
    "    TOT_CH = 64\n",
    "    N_FOLDS = 5\n",
    "\n",
    "if RMODE != 'auto':\n",
    "    manual_ch = ch_dict[RMODE]\n",
    "    n_ch_set = set(n_ch_list)\n",
    "    intersection = n_ch_set.intersection(manual_ch)\n",
    "    n_ch_list = list(intersection)\n",
    "\n",
    "if KAPPASCORE:\n",
    "    kappafile = os.path.join(EXP_FOLDER, f'stats/{RMODE}_bench_kappascore.npz')"
   ]
  },
  {
   "cell_type": "code",
   "execution_count": 209,
   "id": "essential-contents",
   "metadata": {},
   "outputs": [
    {
     "name": "stdout",
     "output_type": "stream",
     "text": [
      "accuracy num_classes:  2\n",
      "10 82.26757370506554\n",
      "64 83.25170068621907\n",
      "accuracy num_classes:  3\n",
      "10 70.633408927503\n",
      "64 73.18820862227646\n",
      "accuracy num_classes:  4\n",
      "10 62.095238095238095\n",
      "64 63.718820861678005\n"
     ]
    }
   ],
   "source": [
    "#statsfile = os.path.join(EXP_FOLDER, f'stats/_bench.npz')\n",
    "\n",
    "if REDUCE_NETW or REDUCE_MANUAL:\n",
    "    if TOT_CH in n_ch_list:\n",
    "        len_nch = len(n_ch_list)\n",
    "    else:\n",
    "        len_nch = len(n_ch_list) + 1\n",
    "else:\n",
    "    len_nch = len(n_ch_list)\n",
    "\n",
    "bstats = np.load(statsfile)\n",
    "\n",
    "if KAPPASCORE:\n",
    "    kappascore = np.load(kappafile)\n",
    "\n",
    "train_acc = bstats['train_acc'][:N_ITER, :,:,:]\n",
    "val_acc = bstats['val_acc'][:N_ITER, :,:,:]\n",
    "train_locc = bstats['train_loss'][:N_ITER, :,:,:]\n",
    "val_loss = bstats['val_loss'][:N_ITER, :,:,:]\n",
    "\n",
    "\n",
    "if np.sum(val_acc[-1,:,:,:]) == 0:\n",
    "    print(f'ATTENTION! benchmark {N_ITER} runs not complete')\n",
    "\n",
    "mean_val_acc = np.mean(val_acc, axis=(0,3))\n",
    "\n",
    "for i, num_classes in enumerate(num_classes_list):\n",
    "    print(\"accuracy num_classes: \", num_classes)\n",
    "    for c, acc in zip(ch_dict[RMODE], mean_val_acc[i,:]*100):\n",
    "        print(c, acc)\n",
    "        \n",
    "if KAPPASCORE:\n",
    "    kappa = kappascore['kappascore'][:N_ITER,:,:,:]\n",
    "    mean_kappa = np.mean(kappa, axis=(0,3))\n",
    "\n",
    "    for i, num_classes in enumerate(num_classes_list):\n",
    "        print(\"kappascore num classes\", num_classes)\n",
    "        for c, k in zip(ch_dict[RMODE], mean_kappa[i,:]):\n",
    "            print(c, k)"
   ]
  },
  {
   "cell_type": "code",
   "execution_count": 183,
   "id": "dedicated-burke",
   "metadata": {},
   "outputs": [
    {
     "name": "stdout",
     "output_type": "stream",
     "text": [
      "[[[0.83219955 0.82426304 0.85600907 0.78798186 0.82993197]\n",
      "  [0.         0.         0.         0.         0.        ]]\n",
      "\n",
      " [[0.73998488 0.71957672 0.76870748 0.71050642 0.73091459]\n",
      "  [0.718065   0.77097506 0.81632653 0.72411187 0.72033258]]\n",
      "\n",
      " [[0.64455782 0.62414966 0.67687075 0.57709751 0.62528345]\n",
      "  [0.65929705 0.66043084 0.6978458  0.6207483  0.62868481]]]\n",
      "sorted [[[0.78798186 0.82426304 0.82993197 0.83219955 0.85600907]\n",
      "  [0.         0.         0.         0.         0.        ]]\n",
      "\n",
      " [[0.71050642 0.71957672 0.73091459 0.73998488 0.76870748]\n",
      "  [0.718065   0.72033258 0.72411187 0.77097506 0.81632653]]\n",
      "\n",
      " [[0.57709751 0.62414966 0.62528345 0.64455782 0.67687075]\n",
      "  [0.6207483  0.62868481 0.65929705 0.66043084 0.6978458 ]]]\n"
     ]
    }
   ],
   "source": [
    "print(np.mean(val_acc, axis=0))\n",
    "print('sorted', np.sort(np.mean(val_acc, axis=0)))"
   ]
  },
  {
   "cell_type": "code",
   "execution_count": 78,
   "id": "million-twist",
   "metadata": {},
   "outputs": [
    {
     "name": "stdout",
     "output_type": "stream",
     "text": [
      "[[[0.45753939 0.19907628 0.54884783 0.31967282 0.2857096  0.17033879\n",
      "   0.39297394 0.40760843 0.44064219]\n",
      "  [0.56292565 0.31755604 0.67794245 0.3720706  0.38291811 0.23444516\n",
      "   0.4310017  0.57059903 0.53568277]\n",
      "  [0.69742784 0.39509994 0.81211142 0.46644761 0.494041   0.31381373\n",
      "   0.52699327 0.66478996 0.6013558 ]\n",
      "  [0.7350361  0.40248032 0.84638205 0.48541213 0.52211858 0.35525692\n",
      "   0.61889084 0.71885832 0.6404668 ]\n",
      "  [0.75117025 0.42511647 0.84831966 0.50987053 0.53918464 0.35714042\n",
      "   0.60887224 0.73978511 0.65525234]\n",
      "  [0.74854211 0.42409576 0.8375324  0.49820336 0.55202568 0.38421392\n",
      "   0.67227901 0.74274165 0.65231349]\n",
      "  [0.75210533 0.41086003 0.85671464 0.52107707 0.54471849 0.3506175\n",
      "   0.73299024 0.75390829 0.67137343]\n",
      "  [0.634778   0.32615556 0.76619766 0.42143878 0.43082466 0.29399167\n",
      "   0.52976543 0.65101041 0.57390756]\n",
      "  [0.         0.         0.         0.         0.         0.\n",
      "   0.         0.         0.        ]]]\n",
      "sorted [[[0.17033879 0.19907628 0.2857096  0.31967282 0.39297394 0.40760843\n",
      "   0.44064219 0.45753939 0.54884783]\n",
      "  [0.23444516 0.31755604 0.3720706  0.38291811 0.4310017  0.53568277\n",
      "   0.56292565 0.57059903 0.67794245]\n",
      "  [0.31381373 0.39509994 0.46644761 0.494041   0.52699327 0.6013558\n",
      "   0.66478996 0.69742784 0.81211142]\n",
      "  [0.35525692 0.40248032 0.48541213 0.52211858 0.61889084 0.6404668\n",
      "   0.71885832 0.7350361  0.84638205]\n",
      "  [0.35714042 0.42511647 0.50987053 0.53918464 0.60887224 0.65525234\n",
      "   0.73978511 0.75117025 0.84831966]\n",
      "  [0.38421392 0.42409576 0.49820336 0.55202568 0.65231349 0.67227901\n",
      "   0.74274165 0.74854211 0.8375324 ]\n",
      "  [0.3506175  0.41086003 0.52107707 0.54471849 0.67137343 0.73299024\n",
      "   0.75210533 0.75390829 0.85671464]\n",
      "  [0.29399167 0.32615556 0.42143878 0.43082466 0.52976543 0.57390756\n",
      "   0.634778   0.65101041 0.76619766]\n",
      "  [0.         0.         0.         0.         0.         0.\n",
      "   0.         0.         0.        ]]]\n"
     ]
    }
   ],
   "source": [
    "print(np.mean(kappa, axis=0))\n",
    "print('sorted', np.sort(np.mean(kappa, axis=0)))"
   ]
  },
  {
   "cell_type": "code",
   "execution_count": 85,
   "id": "ethical-stereo",
   "metadata": {},
   "outputs": [
    {
     "name": "stdout",
     "output_type": "stream",
     "text": [
      "[6, 10, 14, 18, 19, 20, 16, 22] \n",
      " [ 6 10 14 16 18 19 20 22] \n",
      " [0 1 2 6 3 4 5 7] \n",
      " [0.68010199 0.71870843 0.72477177 0.72432355 0.72905467 0.72454137\n",
      " 0.72399456 0.        ]\n"
     ]
    }
   ],
   "source": [
    "sort_i = np.argsort(ch_dict[RMODE])\n",
    "sorted_ch = np.sort(ch_dict[RMODE])\n",
    "sorted_val = mean_val_acc[0, sort_i]\n",
    "\n",
    "print(ch_dict[RMODE], '\\n', sorted_ch, '\\n', sort_i, '\\n', sorted_val)"
   ]
  },
  {
   "cell_type": "code",
   "execution_count": 86,
   "id": "musical-conditions",
   "metadata": {},
   "outputs": [
    {
     "name": "stdout",
     "output_type": "stream",
     "text": [
      "num_classes:  4\n",
      "6 68.01019907576216\n",
      "10 71.87084262331544\n",
      "14 72.47717741339584\n",
      "16 72.43235489974379\n",
      "18 72.90546714062523\n",
      "19 72.45413669999346\n",
      "20 72.39945570503296\n",
      "22 0.0\n"
     ]
    }
   ],
   "source": [
    "for i, num_classes in enumerate(num_classes_list):\n",
    "    print(\"num_classes: \", num_classes)\n",
    "    for c, acc in zip(sorted_ch, sorted_val*100):\n",
    "        print(c, acc)"
   ]
  },
  {
   "cell_type": "code",
   "execution_count": null,
   "id": "uniform-morris",
   "metadata": {},
   "outputs": [],
   "source": []
  }
 ],
 "metadata": {
  "kernelspec": {
   "display_name": "Python 3",
   "language": "python",
   "name": "python3"
  },
  "language_info": {
   "codemirror_mode": {
    "name": "ipython",
    "version": 3
   },
   "file_extension": ".py",
   "mimetype": "text/x-python",
   "name": "python",
   "nbconvert_exporter": "python",
   "pygments_lexer": "ipython3",
   "version": "3.6.10"
  }
 },
 "nbformat": 4,
 "nbformat_minor": 5
}
